{
  "nbformat": 4,
  "nbformat_minor": 0,
  "metadata": {
    "colab": {
      "provenance": [],
      "name": "SML.pyp"
    },
    "kernelspec": {
      "name": "python3",
      "display_name": "Python 3"
    },
    "language_info": {
      "name": "python"
    }
  },
  "cells": [
    {
      "cell_type": "code",
      "execution_count": null,
      "metadata": {
        "id": "bkRv3voEn9DS"
      },
      "outputs": [],
      "source": [
        "import numpy as np\n",
        "import scipy as sp\n",
        "import pandas as pd\n",
        "import matplotlib.pyplot as plt"
      ]
    },
    {
      "cell_type": "code",
      "source": [
        "X={2.3,2.5,3.6,2.8,3.1,2.9,3.2,2.7,2.8,3.0}\n",
        "plt.hist(X,bins=5,color=\"blue\",density=\"true\")\n",
        "plt.title(\"Histogram\")\n",
        "plt.xlabel(\"value\")\n",
        "plt.ylabel(\"density\")\n",
        "plt.show()"
      ],
      "metadata": {
        "colab": {
          "base_uri": "https://localhost:8080/",
          "height": 472
        },
        "id": "LR_NPUnco4om",
        "outputId": "09761c61-a061-48fb-aa34-8a51ad86f402"
      },
      "execution_count": null,
      "outputs": [
        {
          "output_type": "display_data",
          "data": {
            "text/plain": [
              "<Figure size 640x480 with 1 Axes>"
            ],
            "image/png": "[encoded data removed]"
          },
          "metadata": {}
        }
      ]
    },
    {
      "cell_type": "code",
      "source": [
        "import numpy as np\n",
        "\n",
        "def my_mean(x):\n",
        "  return sum(x) / len(x)\n",
        "\n",
        "def my_median(x):\n",
        "  x_sorted = sorted(x)\n",
        "  mid = len(x) // 2\n",
        "  return (x_sorted[mid - 1] + x_sorted[mid]) / 2 if len(x) % 2 == 0 else x_sorted[mid]\n",
        "\n",
        "def my_mode(x):\n",
        "  counts = {}\n",
        "  for item in x:\n",
        "    if item in counts:\n",
        "      counts[item] += 1\n",
        "    else:\n",
        "      counts[item] = 1\n",
        "  return max(counts, key=counts.get)\n",
        "\n",
        "def my_variance(x):\n",
        "  mean = my_mean(x)\n",
        "  return sum((i - mean) ** 2 for i in x) / len(x)\n",
        "\n",
        "def my_std(x):\n",
        "  return my_variance(x) ** 0.5\n",
        "\n",
        "def my_range(x):\n",
        "  return max(x) - min(x)\n",
        "\n",
        "def my_iqr(x):\n",
        "  x_sorted = sorted(x)\n",
        "  mid = len(x) // 2\n",
        "  q1 = my_median(x_sorted[:mid])\n",
        "  q3 = my_median(x_sorted[mid:]) if len(x) % 2 == 0 else my_median(x_sorted[mid + 1:])\n",
        "  return q3 - q1\n",
        "\n",
        "def my_skew(x):\n",
        "  mean = my_mean(x)\n",
        "  std = my_std(x)\n",
        "  return sum((i - mean) ** 3 for i in x) / ((len(x) - 1) * std ** 3)\n",
        "\n",
        "def my_kurtosis(x):\n",
        "  mean = my_mean(x)\n",
        "  std = my_std(x)\n",
        "  return sum((i - mean) ** 4 for i in x) / ((len(x) - 1) * std ** 4) - 3\n",
        "\n",
        "x = [4, 5, 8, 2, 4, 2, 5]\n",
        "y = [5, 6, 3, 8, 3, 7, 8]\n",
        "\n",
        "print(\"Mean of x:\", my_mean(x))\n",
        "print(\"Mean of y:\", my_mean(y))\n",
        "print(\"Median of x:\", my_median(x))\n",
        "print(\"Median of y:\", my_median(y))\n",
        "print(\"Mode of x:\", my_mode(x))\n",
        "print(\"Mode of y:\", my_mode(y))\n",
        "print(\"Variance of x:\", my_variance(x))\n",
        "print(\"Variance of y:\", my_variance(y))\n",
        "print(\"Standard deviation of x:\", my_std(x))\n",
        "print(\"Standard deviation of y:\", my_std(y))\n",
        "print(\"Range of x:\", my_range(x))\n",
        "print(\"Range of y:\", my_range(y))\n",
        "print(\"Interquartile range of x:\", my_iqr(x))\n",
        "print(\"Interquartile range of y:\", my_iqr(y))\n",
        "print(\"Skewness of x:\", my_skew(x))\n",
        "print(\"Skewness of y:\", my_skew(y))\n",
        "print(\"Kurtosis of x:\", my_kurtosis(x))\n",
        "print(\"Kurtosis of y:\", my_kurtosis(y))"
      ],
      "metadata": {
        "id": "-0TEUsmTk3wK",
        "outputId": "cceef909-caf9-4a39-8608-0ec0794ffec0",
        "colab": {
          "base_uri": "https://localhost:8080/"
        }
      },
      "execution_count": 7,
      "outputs": [
        {
          "output_type": "stream",
          "name": "stdout",
          "text": [
            "Mean of x: 4.285714285714286\n",
            "Mean of y: 5.714285714285714\n",
            "Median of x: 4\n",
            "Median of y: 6\n",
            "Mode of x: 4\n",
            "Mode of y: 3\n",
            "Variance of x: 3.6326530612244894\n",
            "Variance of y: 3.918367346938776\n",
            "Standard deviation of x: 1.9059520091609048\n",
            "Standard deviation of y: 1.979486637221574\n",
            "Range of x: 6\n",
            "Range of y: 5\n",
            "Interquartile range of x: 3\n",
            "Interquartile range of y: 5\n",
            "Skewness of x: 0.6749996053148125\n",
            "Skewness of y: -0.3078449677514999\n",
            "Kurtosis of x: 0.10003997811724119\n",
            "Kurtosis of y: -1.1964518229166667\n"
          ]
        }
      ]
    },
    {
      "cell_type": "code",
      "source": [
        "import pandas as pd\n",
        "from scipy import stats as s\n",
        "import numpy as np\n"
      ],
      "metadata": {
        "id": "OHPDJTJSmYYN"
      },
      "execution_count": 8,
      "outputs": []
    },
    {
      "cell_type": "code",
      "source": [
        "a=pd.read_csv('/content/sample_data/california_housing_test.csv')\n",
        "a"
      ],
      "metadata": {
        "id": "ZnvWi6Ymmmsu",
        "outputId": "a9f51ee2-184e-4d80-a640-7cc69f274e30",
        "colab": {
          "base_uri": "https://localhost:8080/",
          "height": 423
        }
      },
      "execution_count": 9,
      "outputs": [
        {
          "output_type": "execute_result",
          "data": {
            "text/plain": [
              "      longitude  latitude  housing_median_age  total_rooms  total_bedrooms  \\\n",
              "0       -122.05     37.37                27.0       3885.0           661.0   \n",
              "1       -118.30     34.26                43.0       1510.0           310.0   \n",
              "2       -117.81     33.78                27.0       3589.0           507.0   \n",
              "3       -118.36     33.82                28.0         67.0            15.0   \n",
              "4       -119.67     36.33                19.0       1241.0           244.0   \n",
              "...         ...       ...                 ...          ...             ...   \n",
              "2995    -119.86     34.42                23.0       1450.0           642.0   \n",
              "2996    -118.14     34.06                27.0       5257.0          1082.0   \n",
              "2997    -119.70     36.30                10.0        956.0           201.0   \n",
              "2998    -117.12     34.10                40.0         96.0            14.0   \n",
              "2999    -119.63     34.42                42.0       1765.0           263.0   \n",
              "\n",
              "      population  households  median_income  median_house_value  \n",
              "0         1537.0       606.0         6.6085            344700.0  \n",
              "1          809.0       277.0         3.5990            176500.0  \n",
              "2         1484.0       495.0         5.7934            270500.0  \n",
              "3           49.0        11.0         6.1359            330000.0  \n",
              "4          850.0       237.0         2.9375             81700.0  \n",
              "...          ...         ...            ...                 ...  \n",
              "2995      1258.0       607.0         1.1790            225000.0  \n",
              "2996      3496.0      1036.0         3.3906            237200.0  \n",
              "2997       693.0       220.0         2.2895             62000.0  \n",
              "2998        46.0        14.0         3.2708            162500.0  \n",
              "2999       753.0       260.0         8.5608            500001.0  \n",
              "\n",
              "[3000 rows x 9 columns]"
            ],
            "text/html": [
              "\n",
              "  <div id=\"df-f7457330-b65c-4d5b-8e6c-36534e14585d\" class=\"colab-df-container\">\n",
              "    <div>\n",
              "<style scoped>\n",
              "    .dataframe tbody tr th:only-of-type {\n",
              "        vertical-align: middle;\n",
              "    }\n",
              "\n",
              "    .dataframe tbody tr th {\n",
              "        vertical-align: top;\n",
              "    }\n",
              "\n",
              "    .dataframe thead th {\n",
              "        text-align: right;\n",
              "    }\n",
              "</style>\n",
              "<table border=\"1\" class=\"dataframe\">\n",
              "  <thead>\n",
              "    <tr style=\"text-align: right;\">\n",
              "      <th></th>\n",
              "      <th>longitude</th>\n",
              "      <th>latitude</th>\n",
              "      <th>housing_median_age</th>\n",
              "      <th>total_rooms</th>\n",
              "      <th>total_bedrooms</th>\n",
              "      <th>population</th>\n",
              "      <th>households</th>\n",
              "      <th>median_income</th>\n",
              "      <th>median_house_value</th>\n",
              "    </tr>\n",
              "  </thead>\n",
              "  <tbody>\n",
              "    <tr>\n",
              "      <th>0</th>\n",
              "      <td>-122.05</td>\n",
              "      <td>37.37</td>\n",
              "      <td>27.0</td>\n",
              "      <td>3885.0</td>\n",
              "      <td>661.0</td>\n",
              "      <td>1537.0</td>\n",
              "      <td>606.0</td>\n",
              "      <td>6.6085</td>\n",
              "      <td>344700.0</td>\n",
              "    </tr>\n",
              "    <tr>\n",
              "      <th>1</th>\n",
              "      <td>-118.30</td>\n",
              "      <td>34.26</td>\n",
              "      <td>43.0</td>\n",
              "      <td>1510.0</td>\n",
              "      <td>310.0</td>\n",
              "      <td>809.0</td>\n",
              "      <td>277.0</td>\n",
              "      <td>3.5990</td>\n",
              "      <td>176500.0</td>\n",
              "    </tr>\n",
              "    <tr>\n",
              "      <th>2</th>\n",
              "      <td>-117.81</td>\n",
              "      <td>33.78</td>\n",
              "      <td>27.0</td>\n",
              "      <td>3589.0</td>\n",
              "      <td>507.0</td>\n",
              "      <td>1484.0</td>\n",
              "      <td>495.0</td>\n",
              "      <td>5.7934</td>\n",
              "      <td>270500.0</td>\n",
              "    </tr>\n",
              "    <tr>\n",
              "      <th>3</th>\n",
              "      <td>-118.36</td>\n",
              "      <td>33.82</td>\n",
              "      <td>28.0</td>\n",
              "      <td>67.0</td>\n",
              "      <td>15.0</td>\n",
              "      <td>49.0</td>\n",
              "      <td>11.0</td>\n",
              "      <td>6.1359</td>\n",
              "      <td>330000.0</td>\n",
              "    </tr>\n",
              "    <tr>\n",
              "      <th>4</th>\n",
              "      <td>-119.67</td>\n",
              "      <td>36.33</td>\n",
              "      <td>19.0</td>\n",
              "      <td>1241.0</td>\n",
              "      <td>244.0</td>\n",
              "      <td>850.0</td>\n",
              "      <td>237.0</td>\n",
              "      <td>2.9375</td>\n",
              "      <td>81700.0</td>\n",
              "    </tr>\n",
              "    <tr>\n",
              "      <th>...</th>\n",
              "      <td>...</td>\n",
              "      <td>...</td>\n",
              "      <td>...</td>\n",
              "      <td>...</td>\n",
              "      <td>...</td>\n",
              "      <td>...</td>\n",
              "      <td>...</td>\n",
              "      <td>...</td>\n",
              "      <td>...</td>\n",
              "    </tr>\n",
              "    <tr>\n",
              "      <th>2995</th>\n",
              "      <td>-119.86</td>\n",
              "      <td>34.42</td>\n",
              "      <td>23.0</td>\n",
              "      <td>1450.0</td>\n",
              "      <td>642.0</td>\n",
              "      <td>1258.0</td>\n",
              "      <td>607.0</td>\n",
              "      <td>1.1790</td>\n",
              "      <td>225000.0</td>\n",
              "    </tr>\n",
              "    <tr>\n",
              "      <th>2996</th>\n",
              "      <td>-118.14</td>\n",
              "      <td>34.06</td>\n",
              "      <td>27.0</td>\n",
              "      <td>5257.0</td>\n",
              "      <td>1082.0</td>\n",
              "      <td>3496.0</td>\n",
              "      <td>1036.0</td>\n",
              "      <td>3.3906</td>\n",
              "      <td>237200.0</td>\n",
              "    </tr>\n",
              "    <tr>\n",
              "      <th>2997</th>\n",
              "      <td>-119.70</td>\n",
              "      <td>36.30</td>\n",
              "      <td>10.0</td>\n",
              "      <td>956.0</td>\n",
              "      <td>201.0</td>\n",
              "      <td>693.0</td>\n",
              "      <td>220.0</td>\n",
              "      <td>2.2895</td>\n",
              "      <td>62000.0</td>\n",
              "    </tr>\n",
              "    <tr>\n",
              "      <th>2998</th>\n",
              "      <td>-117.12</td>\n",
              "      <td>34.10</td>\n",
              "      <td>40.0</td>\n",
              "      <td>96.0</td>\n",
              "      <td>14.0</td>\n",
              "      <td>46.0</td>\n",
              "      <td>14.0</td>\n",
              "      <td>3.2708</td>\n",
              "      <td>162500.0</td>\n",
              "    </tr>\n",
              "    <tr>\n",
              "      <th>2999</th>\n",
              "      <td>-119.63</td>\n",
              "      <td>34.42</td>\n",
              "      <td>42.0</td>\n",
              "      <td>1765.0</td>\n",
              "      <td>263.0</td>\n",
              "      <td>753.0</td>\n",
              "      <td>260.0</td>\n",
              "      <td>8.5608</td>\n",
              "      <td>500001.0</td>\n",
              "    </tr>\n",
              "  </tbody>\n",
              "</table>\n",
              "<p>3000 rows × 9 columns</p>\n",
              "</div>\n",
              "    <div class=\"colab-df-buttons\">\n",
              "\n",
              "  <div class=\"colab-df-container\">\n",
              "    <button class=\"colab-df-convert\" onclick=\"convertToInteractive('df-f7457330-b65c-4d5b-8e6c-36534e14585d')\"\n",
              "            title=\"Convert this dataframe to an interactive table.\"\n",
              "            style=\"display:none;\">\n",
              "\n",
              "  <svg xmlns=\"http://www.w3.org/2000/svg\" height=\"24px\" viewBox=\"0 -960 960 960\">\n",
              "    <path d=\"M120-120v-720h720v720H120Zm60-500h600v-160H180v160Zm220 220h160v-160H400v160Zm0 220h160v-160H400v160ZM180-400h160v-160H180v160Zm440 0h160v-160H620v160ZM180-180h160v-160H180v160Zm440 0h160v-160H620v160Z\"/>\n",
              "  </svg>\n",
              "    </button>\n",
              "\n",
              "  <style>\n",
              "    .colab-df-container {\n",
              "      display:flex;\n",
              "      gap: 12px;\n",
              "    }\n",
              "\n",
              "    .colab-df-convert {\n",
              "      background-color: #E8F0FE;\n",
              "      border: none;\n",
              "      border-radius: 50%;\n",
              "      cursor: pointer;\n",
              "      display: none;\n",
              "      fill: #1967D2;\n",
              "      height: 32px;\n",
              "      padding: 0 0 0 0;\n",
              "      width: 32px;\n",
              "    }\n",
              "\n",
              "    .colab-df-convert:hover {\n",
              "      background-color: #E2EBFA;\n",
              "      box-shadow: 0px 1px 2px rgba(60, 64, 67, 0.3), 0px 1px 3px 1px rgba(60, 64, 67, 0.15);\n",
              "      fill: #174EA6;\n",
              "    }\n",
              "\n",
              "    .colab-df-buttons div {\n",
              "      margin-bottom: 4px;\n",
              "    }\n",
              "\n",
              "    [theme=dark] .colab-df-convert {\n",
              "      background-color: #3B4455;\n",
              "      fill: #D2E3FC;\n",
              "    }\n",
              "\n",
              "    [theme=dark] .colab-df-convert:hover {\n",
              "      background-color: #434B5C;\n",
              "      box-shadow: 0px 1px 3px 1px rgba(0, 0, 0, 0.15);\n",
              "      filter: drop-shadow(0px 1px 2px rgba(0, 0, 0, 0.3));\n",
              "      fill: #FFFFFF;\n",
              "    }\n",
              "  </style>\n",
              "\n",
              "    <script>\n",
              "      const buttonEl =\n",
              "        document.querySelector('#df-f7457330-b65c-4d5b-8e6c-36534e14585d button.colab-df-convert');\n",
              "      buttonEl.style.display =\n",
              "        google.colab.kernel.accessAllowed ? 'block' : 'none';\n",
              "\n",
              "      async function convertToInteractive(key) {\n",
              "        const element = document.querySelector('#df-f7457330-b65c-4d5b-8e6c-36534e14585d');\n",
              "        const dataTable =\n",
              "          await google.colab.kernel.invokeFunction('convertToInteractive',\n",
              "                                                    [key], {});\n",
              "        if (!dataTable) return;\n",
              "\n",
              "        const docLinkHtml = 'Like what you see? Visit the ' +\n",
              "          '<a target=\"_blank\" href=https://colab.research.google.com/notebooks/data_table.ipynb>data table notebook</a>'\n",
              "          + ' to learn more about interactive tables.';\n",
              "        element.innerHTML = '';\n",
              "        dataTable['output_type'] = 'display_data';\n",
              "        await google.colab.output.renderOutput(dataTable, element);\n",
              "        const docLink = document.createElement('div');\n",
              "        docLink.innerHTML = docLinkHtml;\n",
              "        element.appendChild(docLink);\n",
              "      }\n",
              "    </script>\n",
              "  </div>\n",
              "\n",
              "\n",
              "<div id=\"df-dde90ae1-449a-4160-83ca-ee616bfaf4de\">\n",
              "  <button class=\"colab-df-quickchart\" onclick=\"quickchart('df-dde90ae1-449a-4160-83ca-ee616bfaf4de')\"\n",
              "            title=\"Suggest charts\"\n",
              "            style=\"display:none;\">\n",
              "\n",
              "<svg xmlns=\"http://www.w3.org/2000/svg\" height=\"24px\"viewBox=\"0 0 24 24\"\n",
              "     width=\"24px\">\n",
              "    <g>\n",
              "        <path d=\"M19 3H5c-1.1 0-2 .9-2 2v14c0 1.1.9 2 2 2h14c1.1 0 2-.9 2-2V5c0-1.1-.9-2-2-2zM9 17H7v-7h2v7zm4 0h-2V7h2v10zm4 0h-2v-4h2v4z\"/>\n",
              "    </g>\n",
              "</svg>\n",
              "  </button>\n",
              "\n",
              "<style>\n",
              "  .colab-df-quickchart {\n",
              "      --bg-color: #E8F0FE;\n",
              "      --fill-color: #1967D2;\n",
              "      --hover-bg-color: #E2EBFA;\n",
              "      --hover-fill-color: #174EA6;\n",
              "      --disabled-fill-color: #AAA;\n",
              "      --disabled-bg-color: #DDD;\n",
              "  }\n",
              "\n",
              "  [theme=dark] .colab-df-quickchart {\n",
              "      --bg-color: #3B4455;\n",
              "      --fill-color: #D2E3FC;\n",
              "      --hover-bg-color: #434B5C;\n",
              "      --hover-fill-color: #FFFFFF;\n",
              "      --disabled-bg-color: #3B4455;\n",
              "      --disabled-fill-color: #666;\n",
              "  }\n",
              "\n",
              "  .colab-df-quickchart {\n",
              "    background-color: var(--bg-color);\n",
              "    border: none;\n",
              "    border-radius: 50%;\n",
              "    cursor: pointer;\n",
              "    display: none;\n",
              "    fill: var(--fill-color);\n",
              "    height: 32px;\n",
              "    padding: 0;\n",
              "    width: 32px;\n",
              "  }\n",
              "\n",
              "  .colab-df-quickchart:hover {\n",
              "    background-color: var(--hover-bg-color);\n",
              "    box-shadow: 0 1px 2px rgba(60, 64, 67, 0.3), 0 1px 3px 1px rgba(60, 64, 67, 0.15);\n",
              "    fill: var(--button-hover-fill-color);\n",
              "  }\n",
              "\n",
              "  .colab-df-quickchart-complete:disabled,\n",
              "  .colab-df-quickchart-complete:disabled:hover {\n",
              "    background-color: var(--disabled-bg-color);\n",
              "    fill: var(--disabled-fill-color);\n",
              "    box-shadow: none;\n",
              "  }\n",
              "\n",
              "  .colab-df-spinner {\n",
              "    border: 2px solid var(--fill-color);\n",
              "    border-color: transparent;\n",
              "    border-bottom-color: var(--fill-color);\n",
              "    animation:\n",
              "      spin 1s steps(1) infinite;\n",
              "  }\n",
              "\n",
              "  @keyframes spin {\n",
              "    0% {\n",
              "      border-color: transparent;\n",
              "      border-bottom-color: var(--fill-color);\n",
              "      border-left-color: var(--fill-color);\n",
              "    }\n",
              "    20% {\n",
              "      border-color: transparent;\n",
              "      border-left-color: var(--fill-color);\n",
              "      border-top-color: var(--fill-color);\n",
              "    }\n",
              "    30% {\n",
              "      border-color: transparent;\n",
              "      border-left-color: var(--fill-color);\n",
              "      border-top-color: var(--fill-color);\n",
              "      border-right-color: var(--fill-color);\n",
              "    }\n",
              "    40% {\n",
              "      border-color: transparent;\n",
              "      border-right-color: var(--fill-color);\n",
              "      border-top-color: var(--fill-color);\n",
              "    }\n",
              "    60% {\n",
              "      border-color: transparent;\n",
              "      border-right-color: var(--fill-color);\n",
              "    }\n",
              "    80% {\n",
              "      border-color: transparent;\n",
              "      border-right-color: var(--fill-color);\n",
              "      border-bottom-color: var(--fill-color);\n",
              "    }\n",
              "    90% {\n",
              "      border-color: transparent;\n",
              "      border-bottom-color: var(--fill-color);\n",
              "    }\n",
              "  }\n",
              "</style>\n",
              "\n",
              "  <script>\n",
              "    async function quickchart(key) {\n",
              "      const quickchartButtonEl =\n",
              "        document.querySelector('#' + key + ' button');\n",
              "      quickchartButtonEl.disabled = true;  // To prevent multiple clicks.\n",
              "      quickchartButtonEl.classList.add('colab-df-spinner');\n",
              "      try {\n",
              "        const charts = await google.colab.kernel.invokeFunction(\n",
              "            'suggestCharts', [key], {});\n",
              "      } catch (error) {\n",
              "        console.error('Error during call to suggestCharts:', error);\n",
              "      }\n",
              "      quickchartButtonEl.classList.remove('colab-df-spinner');\n",
              "      quickchartButtonEl.classList.add('colab-df-quickchart-complete');\n",
              "    }\n",
              "    (() => {\n",
              "      let quickchartButtonEl =\n",
              "        document.querySelector('#df-dde90ae1-449a-4160-83ca-ee616bfaf4de button');\n",
              "      quickchartButtonEl.style.display =\n",
              "        google.colab.kernel.accessAllowed ? 'block' : 'none';\n",
              "    })();\n",
              "  </script>\n",
              "</div>\n",
              "\n",
              "  <div id=\"id_7b72ff34-bd42-41f2-bf76-089939dd92c4\">\n",
              "    <style>\n",
              "      .colab-df-generate {\n",
              "        background-color: #E8F0FE;\n",
              "        border: none;\n",
              "        border-radius: 50%;\n",
              "        cursor: pointer;\n",
              "        display: none;\n",
              "        fill: #1967D2;\n",
              "        height: 32px;\n",
              "        padding: 0 0 0 0;\n",
              "        width: 32px;\n",
              "      }\n",
              "\n",
              "      .colab-df-generate:hover {\n",
              "        background-color: #E2EBFA;\n",
              "        box-shadow: 0px 1px 2px rgba(60, 64, 67, 0.3), 0px 1px 3px 1px rgba(60, 64, 67, 0.15);\n",
              "        fill: #174EA6;\n",
              "      }\n",
              "\n",
              "      [theme=dark] .colab-df-generate {\n",
              "        background-color: #3B4455;\n",
              "        fill: #D2E3FC;\n",
              "      }\n",
              "\n",
              "      [theme=dark] .colab-df-generate:hover {\n",
              "        background-color: #434B5C;\n",
              "        box-shadow: 0px 1px 3px 1px rgba(0, 0, 0, 0.15);\n",
              "        filter: drop-shadow(0px 1px 2px rgba(0, 0, 0, 0.3));\n",
              "        fill: #FFFFFF;\n",
              "      }\n",
              "    </style>\n",
              "    <button class=\"colab-df-generate\" onclick=\"generateWithVariable('a')\"\n",
              "            title=\"Generate code using this dataframe.\"\n",
              "            style=\"display:none;\">\n",
              "\n",
              "  <svg xmlns=\"http://www.w3.org/2000/svg\" height=\"24px\"viewBox=\"0 0 24 24\"\n",
              "       width=\"24px\">\n",
              "    <path d=\"M7,19H8.4L18.45,9,17,7.55,7,17.6ZM5,21V16.75L18.45,3.32a2,2,0,0,1,2.83,0l1.4,1.43a1.91,1.91,0,0,1,.58,1.4,1.91,1.91,0,0,1-.58,1.4L9.25,21ZM18.45,9,17,7.55Zm-12,3A5.31,5.31,0,0,0,4.9,8.1,5.31,5.31,0,0,0,1,6.5,5.31,5.31,0,0,0,4.9,4.9,5.31,5.31,0,0,0,6.5,1,5.31,5.31,0,0,0,8.1,4.9,5.31,5.31,0,0,0,12,6.5,5.46,5.46,0,0,0,6.5,12Z\"/>\n",
              "  </svg>\n",
              "    </button>\n",
              "    <script>\n",
              "      (() => {\n",
              "      const buttonEl =\n",
              "        document.querySelector('#id_7b72ff34-bd42-41f2-bf76-089939dd92c4 button.colab-df-generate');\n",
              "      buttonEl.style.display =\n",
              "        google.colab.kernel.accessAllowed ? 'block' : 'none';\n",
              "\n",
              "      buttonEl.onclick = () => {\n",
              "        google.colab.notebook.generateWithVariable('a');\n",
              "      }\n",
              "      })();\n",
              "    </script>\n",
              "  </div>\n",
              "\n",
              "    </div>\n",
              "  </div>\n"
            ],
            "application/vnd.google.colaboratory.intrinsic+json": {
              "type": "dataframe",
              "variable_name": "a",
              "summary": "{\n  \"name\": \"a\",\n  \"rows\": 3000,\n  \"fields\": [\n    {\n      \"column\": \"longitude\",\n      \"properties\": {\n        \"dtype\": \"number\",\n        \"std\": 1.9949362939550175,\n        \"min\": -124.18,\n        \"max\": -114.49,\n        \"num_unique_values\": 607,\n        \"samples\": [\n          -121.15,\n          -121.46,\n          -121.02\n        ],\n        \"semantic_type\": \"\",\n        \"description\": \"\"\n      }\n    },\n    {\n      \"column\": \"latitude\",\n      \"properties\": {\n        \"dtype\": \"number\",\n        \"std\": 2.129669523343834,\n        \"min\": 32.56,\n        \"max\": 41.92,\n        \"num_unique_values\": 587,\n        \"samples\": [\n          40.17,\n          33.69,\n          39.61\n        ],\n        \"semantic_type\": \"\",\n        \"description\": \"\"\n      }\n    },\n    {\n      \"column\": \"housing_median_age\",\n      \"properties\": {\n        \"dtype\": \"number\",\n        \"std\": 12.555395554955753,\n        \"min\": 1.0,\n        \"max\": 52.0,\n        \"num_unique_values\": 52,\n        \"samples\": [\n          14.0,\n          49.0,\n          7.0\n        ],\n        \"semantic_type\": \"\",\n        \"description\": \"\"\n      }\n    },\n    {\n      \"column\": \"total_rooms\",\n      \"properties\": {\n        \"dtype\": \"number\",\n        \"std\": 2155.593331625581,\n        \"min\": 6.0,\n        \"max\": 30450.0,\n        \"num_unique_values\": 2215,\n        \"samples\": [\n          1961.0,\n          1807.0,\n          680.0\n        ],\n        \"semantic_type\": \"\",\n        \"description\": \"\"\n      }\n    },\n    {\n      \"column\": \"total_bedrooms\",\n      \"properties\": {\n        \"dtype\": \"number\",\n        \"std\": 415.6543681363229,\n        \"min\": 2.0,\n        \"max\": 5419.0,\n        \"num_unique_values\": 1055,\n        \"samples\": [\n          532.0,\n          764.0,\n          2162.0\n        ],\n        \"semantic_type\": \"\",\n        \"description\": \"\"\n      }\n    },\n    {\n      \"column\": \"population\",\n      \"properties\": {\n        \"dtype\": \"number\",\n        \"std\": 1030.5430124122424,\n        \"min\": 5.0,\n        \"max\": 11935.0,\n        \"num_unique_values\": 1802,\n        \"samples\": [\n          947.0,\n          1140.0,\n          2019.0\n        ],\n        \"semantic_type\": \"\",\n        \"description\": \"\"\n      }\n    },\n    {\n      \"column\": \"households\",\n      \"properties\": {\n        \"dtype\": \"number\",\n        \"std\": 365.42270980552627,\n        \"min\": 2.0,\n        \"max\": 4930.0,\n        \"num_unique_values\": 1026,\n        \"samples\": [\n          646.0,\n          629.0,\n          504.0\n        ],\n        \"semantic_type\": \"\",\n        \"description\": \"\"\n      }\n    },\n    {\n      \"column\": \"median_income\",\n      \"properties\": {\n        \"dtype\": \"number\",\n        \"std\": 1.854511729691479,\n        \"min\": 0.4999,\n        \"max\": 15.0001,\n        \"num_unique_values\": 2578,\n        \"samples\": [\n          1.725,\n          0.7403,\n          2.6964\n        ],\n        \"semantic_type\": \"\",\n        \"description\": \"\"\n      }\n    },\n    {\n      \"column\": \"median_house_value\",\n      \"properties\": {\n        \"dtype\": \"number\",\n        \"std\": 113119.68746964628,\n        \"min\": 22500.0,\n        \"max\": 500001.0,\n        \"num_unique_values\": 1784,\n        \"samples\": [\n          71900.0,\n          63000.0,\n          115800.0\n        ],\n        \"semantic_type\": \"\",\n        \"description\": \"\"\n      }\n    }\n  ]\n}"
            }
          },
          "metadata": {},
          "execution_count": 9
        }
      ]
    },
    {
      "cell_type": "code",
      "source": [
        "print(s.mode(a['longitude']))\n",
        "print(\"mean of longitude=\",np.mean(a['longitude']))\n",
        "print(\"median of Longitude=\",np.median(a['longitude']))"
      ],
      "metadata": {
        "id": "2cbIznrGmzGT",
        "outputId": "566e1bba-700c-4b1c-c655-b829247ed5c6",
        "colab": {
          "base_uri": "https://localhost:8080/"
        }
      },
      "execution_count": 10,
      "outputs": [
        {
          "output_type": "stream",
          "name": "stdout",
          "text": [
            "ModeResult(mode=-118.26, count=26)\n",
            "mean of longitude= -119.58919999999999\n",
            "median of Longitude= -118.485\n"
          ]
        }
      ]
    },
    {
      "cell_type": "code",
      "source": [
        "print(s.mode(a['latitude']))\n",
        "print(\"mean of latitude=\",np.mean(a['latitude']))\n",
        "print(\"median of latitude=\",np.median(a['latitude']))"
      ],
      "metadata": {
        "id": "UhaXcCiVm3wk",
        "outputId": "37829c00-2e3b-49ed-a75d-64d3863bc044",
        "colab": {
          "base_uri": "https://localhost:8080/"
        }
      },
      "execution_count": 11,
      "outputs": [
        {
          "output_type": "stream",
          "name": "stdout",
          "text": [
            "ModeResult(mode=34.02, count=35)\n",
            "mean of latitude= 35.635389999999994\n",
            "median of latitude= 34.27\n"
          ]
        }
      ]
    },
    {
      "cell_type": "code",
      "source": [
        "print(s.mode(a['housing_median_age']))\n",
        "print(\"mean of housing_median_age=\",np.mean(a['housing_median_age']))\n",
        "print(\"median of housing_median_age=\",np.median(a['housing_median_age']))"
      ],
      "metadata": {
        "id": "rPFq2i7NnICZ",
        "outputId": "752d4b23-c1ca-4047-d2f3-80e549952068",
        "colab": {
          "base_uri": "https://localhost:8080/"
        }
      },
      "execution_count": 12,
      "outputs": [
        {
          "output_type": "stream",
          "name": "stdout",
          "text": [
            "ModeResult(mode=52.0, count=173)\n",
            "mean of housing_median_age= 28.845333333333333\n",
            "median of housing_median_age= 29.0\n"
          ]
        }
      ]
    },
    {
      "cell_type": "code",
      "source": [
        "print(s.mode(a['total_rooms']))\n",
        "print(\"mean of total_rooms=\",np.mean(a['total_rooms']))\n",
        "print(\"median of total_rooms=\",np.median(a['total_rooms']))"
      ],
      "metadata": {
        "id": "fiRx-UPjnmi2",
        "outputId": "1ddbcd43-1f2d-49b9-edb5-9331a9ceee2a",
        "colab": {
          "base_uri": "https://localhost:8080/"
        }
      },
      "execution_count": 13,
      "outputs": [
        {
          "output_type": "stream",
          "name": "stdout",
          "text": [
            "ModeResult(mode=907.0, count=5)\n",
            "mean of total_rooms= 2599.578666666667\n",
            "median of total_rooms= 2106.0\n"
          ]
        }
      ]
    },
    {
      "cell_type": "code",
      "source": [
        "print(s.mode(a['total_bedrooms']))\n",
        "print(\"mean of total_bedrooms=\",np.mean(a['total_bedrooms']))\n",
        "print(\"median of total_bedrooms=\",np.median(a['total_bedrooms']))\n"
      ],
      "metadata": {
        "id": "-Q-v6PFinsOg",
        "outputId": "14d0de05-dbf3-4192-ecca-8da323b9536d",
        "colab": {
          "base_uri": "https://localhost:8080/"
        }
      },
      "execution_count": 15,
      "outputs": [
        {
          "output_type": "stream",
          "name": "stdout",
          "text": [
            "ModeResult(mode=314.0, count=15)\n",
            "mean of total_bedrooms= 529.9506666666666\n",
            "median of total_bedrooms= 437.0\n"
          ]
        }
      ]
    },
    {
      "cell_type": "code",
      "source": [
        "print(s.mode(a['population']))\n",
        "print(\"mean of population=\",np.mean(a['population']))\n",
        "print(\"median of population=\",np.median(a['population']))"
      ],
      "metadata": {
        "id": "agp1u7axn7S8",
        "outputId": "a9412e73-fa46-4762-c83c-03f77579e877",
        "colab": {
          "base_uri": "https://localhost:8080/"
        }
      },
      "execution_count": 16,
      "outputs": [
        {
          "output_type": "stream",
          "name": "stdout",
          "text": [
            "ModeResult(mode=870.0, count=7)\n",
            "mean of population= 1402.7986666666666\n",
            "median of population= 1155.0\n"
          ]
        }
      ]
    },
    {
      "cell_type": "code",
      "source": [
        "print(s.mode(a['households']))\n",
        "print(\"mean of households=\",np.mean(a['households']))\n",
        "print(\"median of households=\",np.median(a['households']))"
      ],
      "metadata": {
        "id": "PUHIbuKgoA1a",
        "outputId": "2e6414d0-b669-464f-e665-5cdd6478f33b",
        "colab": {
          "base_uri": "https://localhost:8080/"
        }
      },
      "execution_count": 17,
      "outputs": [
        {
          "output_type": "stream",
          "name": "stdout",
          "text": [
            "ModeResult(mode=273.0, count=12)\n",
            "mean of households= 489.912\n",
            "median of households= 409.5\n"
          ]
        }
      ]
    },
    {
      "cell_type": "code",
      "source": [
        "print(s.mode(a['median_income']))\n",
        "print(\"mean of median_incomes=\",np.mean(a['median_income']))\n",
        "print(\"median of median_income=\",np.median(a['median_income']))\n"
      ],
      "metadata": {
        "id": "qIeGeePooIJM",
        "outputId": "d4302ccb-774d-4499-9fb0-ba2b688d1ae1",
        "colab": {
          "base_uri": "https://localhost:8080/"
        }
      },
      "execution_count": 18,
      "outputs": [
        {
          "output_type": "stream",
          "name": "stdout",
          "text": [
            "ModeResult(mode=15.0001, count=9)\n",
            "mean of median_incomes= 3.8072717999999997\n",
            "median of median_income= 3.4871499999999997\n"
          ]
        }
      ]
    },
    {
      "cell_type": "code",
      "source": [
        "print(s.mode(a['median_house_value']))\n",
        "print(\"mean of median_house_value=\",np.mean(a['median_house_value']))\n",
        "print(\"median of median_house_value=\",np.median(a['median_house_value']))\n"
      ],
      "metadata": {
        "id": "Noy3JwrfoOED",
        "outputId": "db226f7a-de6e-434d-eac6-3523af014b6c",
        "colab": {
          "base_uri": "https://localhost:8080/"
        }
      },
      "execution_count": 19,
      "outputs": [
        {
          "output_type": "stream",
          "name": "stdout",
          "text": [
            "ModeResult(mode=500001.0, count=125)\n",
            "mean of median_house_value= 205846.275\n",
            "median of median_house_value= 177650.0\n"
          ]
        }
      ]
    },
    {
      "cell_type": "code",
      "source": [
        "print(\"Variance of longitude is\",np.var(a['longitude']))\n",
        "print(\"Variance of latitude is\",np.var(a['latitude']))\n",
        "print(\"Variance of housing_median_age is\",np.var(a['housing_median_age']))\n",
        "print(\"Variance of total_rooms is\",np.var(a['total_rooms']))\n",
        "print(\"Variance of total_bedrooms is\",np.var(a['total_bedrooms']))\n",
        "print(\"Variance of population is\",np.var(a['population']))\n",
        "print(\"Variance of households is\",np.var(a['households']))\n",
        "print(\"Variance of median_income is\",np.var(a['median_income']))\n",
        "print(\"Variance of median_house_value is\",np.var(a['median_house_value']))\n",
        "print(\"Standard deviation of longitude is\",np.std(a['longitude']))\n",
        "print(\"Standard deviation of latitude is\",np.std(a['latitude']))\n",
        "print(\"Standard deviation of housing_median_age is\",np.std(a['housing_median_age']))\n",
        "print(\"Standard deviation of total_rooms is\",np.std(a['total_rooms']))\n",
        "print(\"Standard deviation of total_bedrooms is\",np.std(a['total_bedrooms']))\n",
        "print(\"Standard deviation of popualtion is\",np.std(a['population']))\n",
        "print(\"Standard deviation of households is\",np.std(a['households']))\n",
        "print(\"Standard deviation of median_income is\",np.std(a['median_income']))\n",
        "print(\"Standard deviation of median_house_value is\",np.std(a['median_house_value']))\n",
        "print(\"Range of longitude is\",max(a['longitude'])-min(a['longitude']))\n",
        "print(\"Range of latitude is\",max(a['latitude'])-min(a['latitude']))\n",
        "print(\"Range of housing_median_age is\",max(a['housing_median_age'])-min(a['housing_median_age']))\n",
        "print(\"Range of total_rooms is\",max(a['total_rooms'])-min(a['total_rooms']))\n",
        "print(\"Range of total_bedrooms is\",max(a['total_bedrooms'])-min(a['total_bedrooms']))\n",
        "print(\"Range of population is\",max(a['population'])-min(a['population']))\n",
        "print(\"Range of households is\",max(a['households'])-min(a['households']))\n",
        "print(\"Range of median_income is\",max(a['median_income'])-min(a['median_income']))\n",
        "print(\"Range of median_house_value is\",max(a['median_house_value'])-min(a['median_house_value']))\n",
        "print(\"Interquartile range of longitude is\",np.percentile(a['longitude'],75)-np.percentile(a['longitude'],25))\n",
        "print(\"Interquartile range of latitude is\",np.percentile(a['latitude'],75)-np.percentile(a['latitude'],25))\n",
        "print(\"Interquartile range of Housing Median Age is \",np.percentile(a['housing_median_age'],75)-np.percentile(a['housing_median_age'],25))\n",
        "print(\"Interquartile range of Total Rooms is \",np.percentile(a['total_rooms'],75)-np.percentile(a['total_rooms'],25))\n",
        "print(\"Interquartile range of Total Bedrooms is \",np.percentile(a['total_bedrooms'],75)-np.percentile(a['total_bedrooms'],25))\n",
        "print(\"Interquartile range of Population is \",np.percentile(a['population'],75)-np.percentile(a['population'],25))\n",
        "print(\"Interquartile range of Households is \",np.percentile(a['households'],75)-np.percentile(a['households'],25))\n",
        "print(\"Interquartile range of Median Income is \",np.percentile(a['median_income'],75)-np.percentile(a['median_income'],25))\n",
        "print(\"Interquartile range of Median House_value is \",np.percentile(a['median_house_value'],75)-np.percentile(a['median_house_value'],25))"
      ],
      "metadata": {
        "id": "etCSlnTsoUMq",
        "outputId": "819ee1c5-d26f-4b95-9138-ad1b5354a2e6",
        "colab": {
          "base_uri": "https://localhost:8080/"
        }
      },
      "execution_count": 20,
      "outputs": [
        {
          "output_type": "stream",
          "name": "stdout",
          "text": [
            "Variance of longitude is 3.9784442266666673\n",
            "Variance of latitude is 4.5339804479\n",
            "Variance of housing_median_age is 157.58541155555554\n",
            "Variance of total_rooms is 4645033.750478223\n",
            "Variance of total_bedrooms is 172710.9642328889\n",
            "Variance of population is 1061664.8941315555\n",
            "Variance of households is 133489.24558933332\n",
            "Variance of median_income is 3.4380673509780935\n",
            "Variance of median_house_value is 12791798338.666039\n",
            "Standard deviation of longitude is 1.9946037768606244\n",
            "Standard deviation of latitude is 2.1293145488396026\n",
            "Standard deviation of housing_median_age is 12.553302814620363\n",
            "Standard deviation of total_rooms is 2155.2340361265233\n",
            "Standard deviation of total_bedrooms is 415.58508663436044\n",
            "Standard deviation of popualtion is 1030.3712409280238\n",
            "Standard deviation of households is 365.3618009443972\n",
            "Standard deviation of median_income is 1.854202618641796\n",
            "Standard deviation of median_house_value is 113100.83261703266\n",
            "Range of longitude is 9.690000000000012\n",
            "Range of latitude is 9.36\n",
            "Range of housing_median_age is 51.0\n",
            "Range of total_rooms is 30444.0\n",
            "Range of total_bedrooms is 5417.0\n",
            "Range of population is 11930.0\n",
            "Range of households is 4928.0\n",
            "Range of median_income is 14.5002\n",
            "Range of median_house_value is 477501.0\n",
            "Interquartile range of longitude is 3.7900000000000063\n",
            "Interquartile range of latitude is 3.759999999999998\n",
            "Interquartile range of Housing Median Age is  19.0\n",
            "Interquartile range of Total Rooms is  1728.0\n",
            "Interquartile range of Total Bedrooms is  345.0\n",
            "Interquartile range of Population is  962.75\n",
            "Interquartile range of Households is  324.25\n",
            "Interquartile range of Median Income is  2.112475\n",
            "Interquartile range of Median House_value is  142775.0\n"
          ]
        }
      ]
    },
    {
      "cell_type": "code",
      "source": [
        "title = ['longitude', 'latitude', 'housing_median_age', 'total_rooms',\n",
        "'total_bedrooms', 'population', 'households', 'median_income','median_house_value']\n",
        "for j in title:\n",
        "  values = a[j]\n",
        "  mean = np.mean(values)\n",
        "  std = np.std(values)\n",
        "  kurtosis = np.mean(((values - mean) / std) ** 4) - 3\n",
        "  print(\"Kurtosis of\",j, \":\", kurtosis)"
      ],
      "metadata": {
        "id": "aoIVfgBso5et",
        "outputId": "95b91794-03cb-4e13-c027-d36170ff4257",
        "colab": {
          "base_uri": "https://localhost:8080/"
        }
      },
      "execution_count": 23,
      "outputs": [
        {
          "output_type": "stream",
          "name": "stdout",
          "text": [
            "Kurtosis of longitude : -1.36250076692562\n",
            "Kurtosis of latitude : -1.124498724190225\n",
            "Kurtosis of housing_median_age : -0.8044440474433032\n",
            "Kurtosis of total_rooms : 32.04446666907789\n",
            "Kurtosis of total_bedrooms : 28.487531892484597\n",
            "Kurtosis of population : 16.413876182652206\n",
            "Kurtosis of households : 26.18366680809117\n",
            "Kurtosis of median_income : 5.6148122167243155\n",
            "Kurtosis of median_house_value : 0.39274097200635527\n"
          ]
        }
      ]
    },
    {
      "cell_type": "code",
      "source": [
        "title= ['longitude', 'latitude', 'housing_median_age', 'total_rooms',\n",
        "'total_bedrooms', 'population', 'households', 'median_income','median_house_value']\n",
        "for j in title:\n",
        "  values = a[j]\n",
        "  mean = np.mean(values)\n",
        "  std = np.std(values)\n",
        "  skewness = np.mean(((values - mean) / std) ** 3)\n",
        "  print(\"Skewness of\",j, \":\", skewness)"
      ],
      "metadata": {
        "id": "PpfIVtHXpUxL",
        "outputId": "52154475-d5c3-4c49-ecd8-dae12e894b09",
        "colab": {
          "base_uri": "https://localhost:8080/"
        }
      },
      "execution_count": 24,
      "outputs": [
        {
          "output_type": "stream",
          "name": "stdout",
          "text": [
            "Skewness of longitude : -0.29770868312210047\n",
            "Skewness of latitude : 0.45958599688301044\n",
            "Skewness of housing_median_age : 0.01850386331347805\n",
            "Skewness of total_rooms : 4.165553250335492\n",
            "Skewness of total_bedrooms : 3.861461224097534\n",
            "Skewness of population : 2.9481956505974205\n",
            "Skewness of households : 3.5579732876776737\n",
            "Skewness of median_income : 1.6976623609848385\n",
            "Skewness of median_house_value : 0.9890670635093471\n"
          ]
        }
      ]
    }
  ]
}