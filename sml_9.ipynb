{
  "nbformat": 4,
  "nbformat_minor": 0,
  "metadata": {
    "colab": {
      "provenance": []
    },
    "kernelspec": {
      "name": "python3",
      "display_name": "Python 3"
    },
    "language_info": {
      "name": "python"
    }
  },
  "cells": [
    {
      "cell_type": "code",
      "execution_count": 3,
      "metadata": {
        "colab": {
          "base_uri": "https://localhost:8080/"
        },
        "id": "NwUN1vx_iZVA",
        "outputId": "95c11045-fc9d-40fe-919d-9d9df7bb80ff"
      },
      "outputs": [
        {
          "output_type": "stream",
          "name": "stdout",
          "text": [
            "     Age  Gender  Protein1  Protein2  Protein3  Protein4 Tumour_Stage  \\\n",
            "0     42  FEMALE  0.952560   2.15000  0.007972 -0.048340           II   \n",
            "1     54  FEMALE  0.000000   1.38020 -0.498030 -0.507320           II   \n",
            "2     63  FEMALE -0.523030   1.76400 -0.370190  0.010815           II   \n",
            "3     78  FEMALE -0.876180   0.12943 -0.370380  0.132190            I   \n",
            "4     42  FEMALE  0.226110   1.74910 -0.543970 -0.390210           II   \n",
            "..   ...     ...       ...       ...       ...       ...          ...   \n",
            "329   59  FEMALE  0.024598   1.40050  0.024751  0.280320           II   \n",
            "330   41  FEMALE  0.100120  -0.46547  0.472370 -0.523870            I   \n",
            "331   54  FEMALE  0.753820   1.64250 -0.332850  0.857860           II   \n",
            "332   74  FEMALE  0.972510   1.42680 -0.366570 -0.107820           II   \n",
            "333   66  FEMALE  0.286380   1.39980  0.318830  0.836050           II   \n",
            "\n",
            "                          Histology ER status PR status HER2 status  \\\n",
            "0     Infiltrating Ductal Carcinoma  Positive  Positive    Negative   \n",
            "1     Infiltrating Ductal Carcinoma  Positive  Positive    Negative   \n",
            "2     Infiltrating Ductal Carcinoma  Positive  Positive    Negative   \n",
            "3     Infiltrating Ductal Carcinoma  Positive  Positive    Negative   \n",
            "4     Infiltrating Ductal Carcinoma  Positive  Positive    Positive   \n",
            "..                              ...       ...       ...         ...   \n",
            "329   Infiltrating Ductal Carcinoma  Positive  Positive    Positive   \n",
            "330   Infiltrating Ductal Carcinoma  Positive  Positive    Positive   \n",
            "331   Infiltrating Ductal Carcinoma  Positive  Positive    Negative   \n",
            "332  Infiltrating Lobular Carcinoma  Positive  Positive    Negative   \n",
            "333   Infiltrating Ductal Carcinoma  Positive  Positive    Negative   \n",
            "\n",
            "                    Surgery_type Date_of_Surgery Date_of_Last_Visit  \\\n",
            "0                          Other       20-May-18          26-Aug-18   \n",
            "1                          Other       26-Apr-18          25-Jan-19   \n",
            "2                     Lumpectomy       24-Aug-18          08-Apr-20   \n",
            "3                          Other       16-Nov-18          28-Jul-20   \n",
            "4                     Lumpectomy       12-Dec-18          05-Jan-19   \n",
            "..                           ...             ...                ...   \n",
            "329                   Lumpectomy       15-Jan-19          27-Mar-20   \n",
            "330  Modified Radical Mastectomy       25-Jul-18          23-Apr-19   \n",
            "331            Simple Mastectomy       26-Mar-19          11-Oct-19   \n",
            "332                   Lumpectomy       26-Nov-18          05-Dec-18   \n",
            "333  Modified Radical Mastectomy       04-Feb-19          10-Aug-19   \n",
            "\n",
            "    Patient_Status  \n",
            "0            Alive  \n",
            "1             Dead  \n",
            "2            Alive  \n",
            "3            Alive  \n",
            "4            Alive  \n",
            "..             ...  \n",
            "329          Alive  \n",
            "330          Alive  \n",
            "331           Dead  \n",
            "332          Alive  \n",
            "333           Dead  \n",
            "\n",
            "[317 rows x 15 columns]\n"
          ]
        }
      ],
      "source": [
        "import pandas as pd\n",
        "import numpy as np\n",
        "d=pd.read_csv('/content/breast_cancer_survival.csv')\n",
        "d=d.dropna()\n",
        "print(d)"
      ]
    },
    {
      "cell_type": "code",
      "source": [
        "d['Gender']=d['Gender'].replace({'MALE':1,'FEMALE':0})\n",
        "d['ER status']=d['ER status'].replace({'Positive':1,'Negative':0})\n",
        "d['PR status']=d['PR status'].replace({'Positive':1,'Negative':0})\n",
        "d['HER2 status']=d['HER2 status'].replace({'Positive':1,'Negative':0})\n",
        "d['Tumour_Stage']=d['Tumour_Stage'].replace({'I':1,'II':2,'III':3,'IV':4})\n",
        "d['Histology']=d['Histology'].replace({'Infiltrating Ductal Carcinoma':1,'Infiltrating Lobular Carcinoma':0,'Mucinous Carcinoma':0.5})\n",
        "d['Surgery_type']=d['Surgery_type'].replace({'Simple Mastectomy':1,'Lumpectomy':0,'Modified Radical Mastectomy':2,'Other':3})\n",
        "print(d)\n"
      ],
      "metadata": {
        "colab": {
          "base_uri": "https://localhost:8080/"
        },
        "id": "lvSGVbLYjb_9",
        "outputId": "a8456040-a75f-4416-e37c-582668213e92"
      },
      "execution_count": 7,
      "outputs": [
        {
          "output_type": "stream",
          "name": "stdout",
          "text": [
            "     Age  Gender  Protein1  Protein2  Protein3  Protein4  Tumour_Stage  \\\n",
            "0     42       0  0.952560   2.15000  0.007972 -0.048340             2   \n",
            "1     54       0  0.000000   1.38020 -0.498030 -0.507320             2   \n",
            "2     63       0 -0.523030   1.76400 -0.370190  0.010815             2   \n",
            "3     78       0 -0.876180   0.12943 -0.370380  0.132190             1   \n",
            "4     42       0  0.226110   1.74910 -0.543970 -0.390210             2   \n",
            "..   ...     ...       ...       ...       ...       ...           ...   \n",
            "329   59       0  0.024598   1.40050  0.024751  0.280320             2   \n",
            "330   41       0  0.100120  -0.46547  0.472370 -0.523870             1   \n",
            "331   54       0  0.753820   1.64250 -0.332850  0.857860             2   \n",
            "332   74       0  0.972510   1.42680 -0.366570 -0.107820             2   \n",
            "333   66       0  0.286380   1.39980  0.318830  0.836050             2   \n",
            "\n",
            "     Histology  ER status  PR status  HER2 status  Surgery_type  \\\n",
            "0          1.0          1          1            0             3   \n",
            "1          1.0          1          1            0             3   \n",
            "2          1.0          1          1            0             0   \n",
            "3          1.0          1          1            0             3   \n",
            "4          1.0          1          1            1             0   \n",
            "..         ...        ...        ...          ...           ...   \n",
            "329        1.0          1          1            1             0   \n",
            "330        1.0          1          1            1             2   \n",
            "331        1.0          1          1            0             1   \n",
            "332        0.0          1          1            0             0   \n",
            "333        1.0          1          1            0             2   \n",
            "\n",
            "    Date_of_Surgery Date_of_Last_Visit Patient_Status  \n",
            "0         20-May-18          26-Aug-18          Alive  \n",
            "1         26-Apr-18          25-Jan-19           Dead  \n",
            "2         24-Aug-18          08-Apr-20          Alive  \n",
            "3         16-Nov-18          28-Jul-20          Alive  \n",
            "4         12-Dec-18          05-Jan-19          Alive  \n",
            "..              ...                ...            ...  \n",
            "329       15-Jan-19          27-Mar-20          Alive  \n",
            "330       25-Jul-18          23-Apr-19          Alive  \n",
            "331       26-Mar-19          11-Oct-19           Dead  \n",
            "332       26-Nov-18          05-Dec-18          Alive  \n",
            "333       04-Feb-19          10-Aug-19           Dead  \n",
            "\n",
            "[317 rows x 15 columns]\n"
          ]
        }
      ]
    },
    {
      "cell_type": "code",
      "source": [
        "y=d['Patient_Status']\n",
        "print(y)"
      ],
      "metadata": {
        "colab": {
          "base_uri": "https://localhost:8080/"
        },
        "id": "uljA8FGho-aT",
        "outputId": "afd372d3-3bff-4d60-9591-f97b777ebed8"
      },
      "execution_count": 5,
      "outputs": [
        {
          "output_type": "stream",
          "name": "stdout",
          "text": [
            "0      Alive\n",
            "1       Dead\n",
            "2      Alive\n",
            "3      Alive\n",
            "4      Alive\n",
            "       ...  \n",
            "329    Alive\n",
            "330    Alive\n",
            "331     Dead\n",
            "332    Alive\n",
            "333     Dead\n",
            "Name: Patient_Status, Length: 317, dtype: object\n"
          ]
        }
      ]
    },
    {
      "cell_type": "code",
      "source": [
        "x=d.drop(['Patient_Status','Date_of_Last_Visit','Date_of_Surgery'],axis=1)\n",
        "x.dropna()\n",
        "print(x)"
      ],
      "metadata": {
        "colab": {
          "base_uri": "https://localhost:8080/"
        },
        "id": "uZ7ANtZ3rSSZ",
        "outputId": "9f9837ac-05d8-4f52-b1f6-c6f5490e62a5"
      },
      "execution_count": 6,
      "outputs": [
        {
          "output_type": "stream",
          "name": "stdout",
          "text": [
            "     Age  Gender  Protein1  Protein2  Protein3  Protein4  Tumour_Stage  \\\n",
            "0     42       0  0.952560   2.15000  0.007972 -0.048340             2   \n",
            "1     54       0  0.000000   1.38020 -0.498030 -0.507320             2   \n",
            "2     63       0 -0.523030   1.76400 -0.370190  0.010815             2   \n",
            "3     78       0 -0.876180   0.12943 -0.370380  0.132190             1   \n",
            "4     42       0  0.226110   1.74910 -0.543970 -0.390210             2   \n",
            "..   ...     ...       ...       ...       ...       ...           ...   \n",
            "329   59       0  0.024598   1.40050  0.024751  0.280320             2   \n",
            "330   41       0  0.100120  -0.46547  0.472370 -0.523870             1   \n",
            "331   54       0  0.753820   1.64250 -0.332850  0.857860             2   \n",
            "332   74       0  0.972510   1.42680 -0.366570 -0.107820             2   \n",
            "333   66       0  0.286380   1.39980  0.318830  0.836050             2   \n",
            "\n",
            "     Histology  ER status  PR status  HER2 status  Surgery_type  \n",
            "0          1.0          1          1            0             3  \n",
            "1          1.0          1          1            0             3  \n",
            "2          1.0          1          1            0             0  \n",
            "3          1.0          1          1            0             3  \n",
            "4          1.0          1          1            1             0  \n",
            "..         ...        ...        ...          ...           ...  \n",
            "329        1.0          1          1            1             0  \n",
            "330        1.0          1          1            1             2  \n",
            "331        1.0          1          1            0             1  \n",
            "332        0.0          1          1            0             0  \n",
            "333        1.0          1          1            0             2  \n",
            "\n",
            "[317 rows x 12 columns]\n"
          ]
        }
      ]
    },
    {
      "cell_type": "code",
      "source": [
        "from sklearn.model_selection import train_test_split\n",
        "from sklearn.metrics import accuracy_score, confusion_matrix, classification_report\n",
        "from sklearn.linear_model import LogisticRegression\n",
        "model = LogisticRegression()"
      ],
      "metadata": {
        "id": "iTmQJ4HdrT5e"
      },
      "execution_count": 8,
      "outputs": []
    },
    {
      "cell_type": "code",
      "source": [
        "test_sizes = [0.2, 0.25, 0.3]\n",
        "for test_size in test_sizes:\n",
        "  x_train, x_test, y_train, y_test = train_test_split(x, y, test_size=test_size, random_state=42)\n",
        "  model = LogisticRegression(max_iter=1000)\n",
        "  model.fit(x_train, y_train)\n",
        "  y_pred = model.predict(x_test)\n",
        "  accuracy = accuracy_score(y_test, y_pred)\n",
        "  print(f\"Accuracy with test size {test_size}: {accuracy}\")\n",
        "  cm = confusion_matrix(y_test, y_pred)\n",
        "  print(cm)\n",
        "  cr = classification_report(y_test, y_pred)\n",
        "  print(cr)\n"
      ],
      "metadata": {
        "colab": {
          "base_uri": "https://localhost:8080/"
        },
        "id": "THGa9pq3tko9",
        "outputId": "21f55f8b-c5a7-4e56-84f5-cf4e6d7748be"
      },
      "execution_count": 9,
      "outputs": [
        {
          "output_type": "stream",
          "name": "stdout",
          "text": [
            "Accuracy with test size 0.2: 0.796875\n",
            "[[51  0]\n",
            " [13  0]]\n",
            "              precision    recall  f1-score   support\n",
            "\n",
            "       Alive       0.80      1.00      0.89        51\n",
            "        Dead       0.00      0.00      0.00        13\n",
            "\n",
            "    accuracy                           0.80        64\n",
            "   macro avg       0.40      0.50      0.44        64\n",
            "weighted avg       0.64      0.80      0.71        64\n",
            "\n",
            "Accuracy with test size 0.25: 0.7875\n",
            "[[63  0]\n",
            " [17  0]]\n",
            "              precision    recall  f1-score   support\n",
            "\n",
            "       Alive       0.79      1.00      0.88        63\n",
            "        Dead       0.00      0.00      0.00        17\n",
            "\n",
            "    accuracy                           0.79        80\n",
            "   macro avg       0.39      0.50      0.44        80\n",
            "weighted avg       0.62      0.79      0.69        80\n",
            "\n",
            "Accuracy with test size 0.3: 0.7916666666666666\n",
            "[[76  0]\n",
            " [20  0]]\n",
            "              precision    recall  f1-score   support\n",
            "\n",
            "       Alive       0.79      1.00      0.88        76\n",
            "        Dead       0.00      0.00      0.00        20\n",
            "\n",
            "    accuracy                           0.79        96\n",
            "   macro avg       0.40      0.50      0.44        96\n",
            "weighted avg       0.63      0.79      0.70        96\n",
            "\n"
          ]
        },
        {
          "output_type": "stream",
          "name": "stderr",
          "text": [
            "/usr/local/lib/python3.10/dist-packages/sklearn/metrics/_classification.py:1531: UndefinedMetricWarning: Precision is ill-defined and being set to 0.0 in labels with no predicted samples. Use `zero_division` parameter to control this behavior.\n",
            "  _warn_prf(average, modifier, f\"{metric.capitalize()} is\", len(result))\n",
            "/usr/local/lib/python3.10/dist-packages/sklearn/metrics/_classification.py:1531: UndefinedMetricWarning: Precision is ill-defined and being set to 0.0 in labels with no predicted samples. Use `zero_division` parameter to control this behavior.\n",
            "  _warn_prf(average, modifier, f\"{metric.capitalize()} is\", len(result))\n",
            "/usr/local/lib/python3.10/dist-packages/sklearn/metrics/_classification.py:1531: UndefinedMetricWarning: Precision is ill-defined and being set to 0.0 in labels with no predicted samples. Use `zero_division` parameter to control this behavior.\n",
            "  _warn_prf(average, modifier, f\"{metric.capitalize()} is\", len(result))\n",
            "/usr/local/lib/python3.10/dist-packages/sklearn/metrics/_classification.py:1531: UndefinedMetricWarning: Precision is ill-defined and being set to 0.0 in labels with no predicted samples. Use `zero_division` parameter to control this behavior.\n",
            "  _warn_prf(average, modifier, f\"{metric.capitalize()} is\", len(result))\n",
            "/usr/local/lib/python3.10/dist-packages/sklearn/metrics/_classification.py:1531: UndefinedMetricWarning: Precision is ill-defined and being set to 0.0 in labels with no predicted samples. Use `zero_division` parameter to control this behavior.\n",
            "  _warn_prf(average, modifier, f\"{metric.capitalize()} is\", len(result))\n",
            "/usr/local/lib/python3.10/dist-packages/sklearn/metrics/_classification.py:1531: UndefinedMetricWarning: Precision is ill-defined and being set to 0.0 in labels with no predicted samples. Use `zero_division` parameter to control this behavior.\n",
            "  _warn_prf(average, modifier, f\"{metric.capitalize()} is\", len(result))\n",
            "/usr/local/lib/python3.10/dist-packages/sklearn/metrics/_classification.py:1531: UndefinedMetricWarning: Precision is ill-defined and being set to 0.0 in labels with no predicted samples. Use `zero_division` parameter to control this behavior.\n",
            "  _warn_prf(average, modifier, f\"{metric.capitalize()} is\", len(result))\n",
            "/usr/local/lib/python3.10/dist-packages/sklearn/metrics/_classification.py:1531: UndefinedMetricWarning: Precision is ill-defined and being set to 0.0 in labels with no predicted samples. Use `zero_division` parameter to control this behavior.\n",
            "  _warn_prf(average, modifier, f\"{metric.capitalize()} is\", len(result))\n",
            "/usr/local/lib/python3.10/dist-packages/sklearn/metrics/_classification.py:1531: UndefinedMetricWarning: Precision is ill-defined and being set to 0.0 in labels with no predicted samples. Use `zero_division` parameter to control this behavior.\n",
            "  _warn_prf(average, modifier, f\"{metric.capitalize()} is\", len(result))\n"
          ]
        }
      ]
    },
    {
      "cell_type": "code",
      "source": [
        "from sklearn.svm import SVC\n",
        "model1 = SVC()\n",
        "test_sizes = [0.2, 0.25, 0.3]\n",
        "for test_size in test_sizes:\n",
        "  x_train, x_test, y_train, y_test = train_test_split(x, y, test_size=test_size, random_state=42)\n",
        "  model1 = LogisticRegression(max_iter=1000)\n",
        "  model1.fit(x_train, y_train)\n",
        "  y_pred = model.predict(x_test)\n",
        "  accuracy = accuracy_score(y_test, y_pred)\n",
        "  print(f\"Accuracy with test size {test_size}: {accuracy}\")\n",
        "  cm = confusion_matrix(y_test, y_pred)\n",
        "  print(cm)\n",
        "  report = classification_report(y_test, y_pred)\n",
        "  print(report)\n"
      ],
      "metadata": {
        "colab": {
          "base_uri": "https://localhost:8080/"
        },
        "id": "4UpNmDTv3Cud",
        "outputId": "9eba2ed0-4531-43a8-8906-2f5de99461de"
      },
      "execution_count": 10,
      "outputs": [
        {
          "output_type": "stream",
          "name": "stdout",
          "text": [
            "Accuracy with test size 0.2: 0.796875\n",
            "[[51  0]\n",
            " [13  0]]\n",
            "              precision    recall  f1-score   support\n",
            "\n",
            "       Alive       0.80      1.00      0.89        51\n",
            "        Dead       0.00      0.00      0.00        13\n",
            "\n",
            "    accuracy                           0.80        64\n",
            "   macro avg       0.40      0.50      0.44        64\n",
            "weighted avg       0.64      0.80      0.71        64\n",
            "\n",
            "Accuracy with test size 0.25: 0.7875\n",
            "[[63  0]\n",
            " [17  0]]\n",
            "              precision    recall  f1-score   support\n",
            "\n",
            "       Alive       0.79      1.00      0.88        63\n",
            "        Dead       0.00      0.00      0.00        17\n",
            "\n",
            "    accuracy                           0.79        80\n",
            "   macro avg       0.39      0.50      0.44        80\n",
            "weighted avg       0.62      0.79      0.69        80\n",
            "\n",
            "Accuracy with test size 0.3: 0.7916666666666666\n",
            "[[76  0]\n",
            " [20  0]]\n",
            "              precision    recall  f1-score   support\n",
            "\n",
            "       Alive       0.79      1.00      0.88        76\n",
            "        Dead       0.00      0.00      0.00        20\n",
            "\n",
            "    accuracy                           0.79        96\n",
            "   macro avg       0.40      0.50      0.44        96\n",
            "weighted avg       0.63      0.79      0.70        96\n",
            "\n"
          ]
        },
        {
          "output_type": "stream",
          "name": "stderr",
          "text": [
            "/usr/local/lib/python3.10/dist-packages/sklearn/metrics/_classification.py:1531: UndefinedMetricWarning: Precision is ill-defined and being set to 0.0 in labels with no predicted samples. Use `zero_division` parameter to control this behavior.\n",
            "  _warn_prf(average, modifier, f\"{metric.capitalize()} is\", len(result))\n",
            "/usr/local/lib/python3.10/dist-packages/sklearn/metrics/_classification.py:1531: UndefinedMetricWarning: Precision is ill-defined and being set to 0.0 in labels with no predicted samples. Use `zero_division` parameter to control this behavior.\n",
            "  _warn_prf(average, modifier, f\"{metric.capitalize()} is\", len(result))\n",
            "/usr/local/lib/python3.10/dist-packages/sklearn/metrics/_classification.py:1531: UndefinedMetricWarning: Precision is ill-defined and being set to 0.0 in labels with no predicted samples. Use `zero_division` parameter to control this behavior.\n",
            "  _warn_prf(average, modifier, f\"{metric.capitalize()} is\", len(result))\n",
            "/usr/local/lib/python3.10/dist-packages/sklearn/metrics/_classification.py:1531: UndefinedMetricWarning: Precision is ill-defined and being set to 0.0 in labels with no predicted samples. Use `zero_division` parameter to control this behavior.\n",
            "  _warn_prf(average, modifier, f\"{metric.capitalize()} is\", len(result))\n",
            "/usr/local/lib/python3.10/dist-packages/sklearn/metrics/_classification.py:1531: UndefinedMetricWarning: Precision is ill-defined and being set to 0.0 in labels with no predicted samples. Use `zero_division` parameter to control this behavior.\n",
            "  _warn_prf(average, modifier, f\"{metric.capitalize()} is\", len(result))\n",
            "/usr/local/lib/python3.10/dist-packages/sklearn/metrics/_classification.py:1531: UndefinedMetricWarning: Precision is ill-defined and being set to 0.0 in labels with no predicted samples. Use `zero_division` parameter to control this behavior.\n",
            "  _warn_prf(average, modifier, f\"{metric.capitalize()} is\", len(result))\n",
            "/usr/local/lib/python3.10/dist-packages/sklearn/metrics/_classification.py:1531: UndefinedMetricWarning: Precision is ill-defined and being set to 0.0 in labels with no predicted samples. Use `zero_division` parameter to control this behavior.\n",
            "  _warn_prf(average, modifier, f\"{metric.capitalize()} is\", len(result))\n",
            "/usr/local/lib/python3.10/dist-packages/sklearn/metrics/_classification.py:1531: UndefinedMetricWarning: Precision is ill-defined and being set to 0.0 in labels with no predicted samples. Use `zero_division` parameter to control this behavior.\n",
            "  _warn_prf(average, modifier, f\"{metric.capitalize()} is\", len(result))\n",
            "/usr/local/lib/python3.10/dist-packages/sklearn/metrics/_classification.py:1531: UndefinedMetricWarning: Precision is ill-defined and being set to 0.0 in labels with no predicted samples. Use `zero_division` parameter to control this behavior.\n",
            "  _warn_prf(average, modifier, f\"{metric.capitalize()} is\", len(result))\n"
          ]
        }
      ]
    }
  ]
}